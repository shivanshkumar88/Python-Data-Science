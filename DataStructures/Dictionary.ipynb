{
 "cells": [
  {
   "cell_type": "markdown",
   "metadata": {},
   "source": [
    "## Dictioniaries \n",
    "##### what we will study.\n",
    "- how to declare it.\n",
    "- how to access key and value pairs.\n",
    "- how to use loops in dictionary.\n",
    "- indexing in dictionary."
   ]
  },
  {
   "cell_type": "code",
   "execution_count": 2,
   "metadata": {},
   "outputs": [
    {
     "name": "stdout",
     "output_type": "stream",
     "text": [
      "{'name': 'shivansh kumar', 'age': '20', 'class': '3 sem'}\n"
     ]
    }
   ],
   "source": [
    "information={\n",
    "    \"name\":\"shivansh kumar\",\n",
    "    \"age\":\"20\",\n",
    "    \"class\":\"3 sem\"\n",
    "}\n",
    "print(information)"
   ]
  },
  {
   "cell_type": "code",
   "execution_count": 3,
   "metadata": {},
   "outputs": [
    {
     "name": "stdout",
     "output_type": "stream",
     "text": [
      "{'lucknow': [25, 30, 35], 'delhi': [20, 25, 30], 'mumbai': [30, 35, 40]}\n"
     ]
    }
   ],
   "source": [
    "# format.1 - key : value format. \n",
    "temp ={\n",
    "    \"lucknow\":[25,30,35],\n",
    "    \"delhi\":[20,25,30],\n",
    "    \"mumbai\":[30,35,40]\n",
    "}\n",
    "print(temp)"
   ]
  },
  {
   "cell_type": "code",
   "execution_count": 4,
   "metadata": {},
   "outputs": [
    {
     "name": "stdout",
     "output_type": "stream",
     "text": [
      "{'name': 'shivansh kumar', 'age': '20', 'classs': '3 sem'}\n"
     ]
    }
   ],
   "source": [
    "# format.2 - dict format.\n",
    "info = dict(name=\"shivansh kumar\",age=\"20\",classs=\"3 sem\")\n",
    "print(info)"
   ]
  },
  {
   "cell_type": "code",
   "execution_count": 5,
   "metadata": {},
   "outputs": [
    {
     "name": "stdout",
     "output_type": "stream",
     "text": [
      "{'name': 'shivansh kumar', 'age': 20, 'course': 'cse(ai)'}\n"
     ]
    }
   ],
   "source": [
    "# taking input from user\n",
    "info2= dict(name=(input(\"enter your name\")),\n",
    "            age=int(input(\"enter your age:\")),\n",
    "            course=(input(\"enter your course:\")))\n",
    "print(info2)"
   ]
  },
  {
   "cell_type": "markdown",
   "metadata": {},
   "source": [
    "##### To access values."
   ]
  },
  {
   "cell_type": "code",
   "execution_count": 6,
   "metadata": {},
   "outputs": [
    {
     "name": "stdout",
     "output_type": "stream",
     "text": [
      "shivansh kumar\n",
      "20\n"
     ]
    }
   ],
   "source": [
    "# 1st method to access the value of a key.\n",
    "print(information[\"name\"])\n",
    "print(info[\"age\"])"
   ]
  },
  {
   "cell_type": "code",
   "execution_count": 7,
   "metadata": {},
   "outputs": [
    {
     "name": "stdout",
     "output_type": "stream",
     "text": [
      "shivansh kumar\n"
     ]
    }
   ],
   "source": [
    "# 2nd method to access the value of a key.\n",
    "print(information.get(\"name\"))"
   ]
  },
  {
   "cell_type": "markdown",
   "metadata": {},
   "source": [
    "#### To add items in a dictionary."
   ]
  },
  {
   "cell_type": "code",
   "execution_count": 8,
   "metadata": {},
   "outputs": [
    {
     "name": "stdout",
     "output_type": "stream",
     "text": [
      "{'name': 'shivansh kumar', 'age': '20', 'class': '3 sem', 'school': 'BBDU', 'city': 'lucknow'}\n"
     ]
    }
   ],
   "source": [
    "# 1st method\n",
    "information[\"school\"]= \"BBDU\"\n",
    "information[\"city\"]= \"lucknow\"\n",
    "print(information)"
   ]
  },
  {
   "cell_type": "code",
   "execution_count": 10,
   "metadata": {},
   "outputs": [
    {
     "name": "stdout",
     "output_type": "stream",
     "text": [
      "dict_keys(['name', 'age', 'class', 'school', 'city'])\n",
      "dict_values(['shivansh kumar', '20', '3 sem', 'BBDU', 'lucknow'])\n"
     ]
    }
   ],
   "source": [
    "# to see all the value in once withput loop.\n",
    "print(information.keys())\n",
    "print(information.values())"
   ]
  },
  {
   "cell_type": "code",
   "execution_count": 11,
   "metadata": {},
   "outputs": [
    {
     "name": "stdout",
     "output_type": "stream",
     "text": [
      "dict_items([('name', 'shivansh kumar'), ('age', '20'), ('class', '3 sem'), ('school', 'BBDU'), ('city', 'lucknow')])\n"
     ]
    }
   ],
   "source": [
    "# to view all key and values at once use .item .\n",
    "print(information.items())"
   ]
  },
  {
   "cell_type": "code",
   "execution_count": 13,
   "metadata": {},
   "outputs": [
    {
     "name": "stdout",
     "output_type": "stream",
     "text": [
      "name\n",
      "age\n",
      "class\n",
      "school\n",
      "city\n"
     ]
    }
   ],
   "source": [
    "# by using loop.\n",
    "for k in information:  #here k is the pointer value, even if we take any other single pointer variable then it will always refer to key if we are working on dictionary. \n",
    "    print(k)"
   ]
  },
  {
   "cell_type": "code",
   "execution_count": 14,
   "metadata": {},
   "outputs": [
    {
     "name": "stdout",
     "output_type": "stream",
     "text": [
      "name shivansh kumar\n",
      "age 20\n",
      "class 3 sem\n",
      "school BBDU\n",
      "city lucknow\n"
     ]
    }
   ],
   "source": [
    "# khaali values print krana using loop is not possible so instead we go with;\n",
    "for k,v in information.items():\n",
    "    print(k,v)"
   ]
  },
  {
   "cell_type": "code",
   "execution_count": 16,
   "metadata": {},
   "outputs": [
    {
     "name": "stdout",
     "output_type": "stream",
     "text": [
      "name:-shivansh kumar\n",
      "age:-20\n",
      "class:-3 sem\n",
      "school:-BBDU\n",
      "city:-lucknow\n"
     ]
    }
   ],
   "source": [
    "# using formatting.\n",
    "for k,v in information.items():\n",
    "    print(f\"{k}:-{v}\")"
   ]
  },
  {
   "cell_type": "code",
   "execution_count": 18,
   "metadata": {},
   "outputs": [
    {
     "name": "stdout",
     "output_type": "stream",
     "text": [
      "{'emp001': {'name': 'shivansh', 'age': 20, 'city': 'lucknow', 'salary': 2500000}, 'emp002': {'name': 'saurabh', 'age': 25, 'city': 'delhi', 'salary': 200000}, 'emp003': {'name': 'tommy', 'age': 17, 'city': 'bombay', 'salary': 20000}}\n"
     ]
    }
   ],
   "source": [
    "company={\n",
    "    \"emp001\" :{\n",
    "        \"name\":\"shivansh\",\n",
    "        \"age\":20,\n",
    "        \"city\":\"lucknow\",\n",
    "        \"salary\":2500000\n",
    "    },\n",
    "    \"emp002\" :{\n",
    "        \"name\":\"saurabh\",\n",
    "        \"age\":25,\n",
    "        \"city\":\"delhi\",\n",
    "        \"salary\":200000\n",
    "    },\n",
    "    \"emp003\":{\n",
    "        \"name\":\"tommy\",\n",
    "        \"age\":17,\n",
    "        \"city\":\"bombay\",\n",
    "        \"salary\":20000\n",
    "    }\n",
    "    \n",
    "}\n",
    "print(company)"
   ]
  },
  {
   "cell_type": "code",
   "execution_count": 19,
   "metadata": {},
   "outputs": [
    {
     "name": "stdout",
     "output_type": "stream",
     "text": [
      "{'emp001': {'age': 20,\n",
      "            'city': 'lucknow',\n",
      "            'name': 'shivansh',\n",
      "            'salary': 2500000},\n",
      " 'emp002': {'age': 25, 'city': 'delhi', 'name': 'saurabh', 'salary': 200000},\n",
      " 'emp003': {'age': 17, 'city': 'bombay', 'name': 'tommy', 'salary': 20000}}\n"
     ]
    }
   ],
   "source": [
    "# to correct the above output or to make it more easier to read we will use pretty print command.\n",
    "from pprint import pprint\n",
    "pprint(company)"
   ]
  },
  {
   "cell_type": "code",
   "execution_count": 20,
   "metadata": {},
   "outputs": [
    {
     "data": {
      "text/plain": [
       "'shivansh'"
      ]
     },
     "execution_count": 20,
     "metadata": {},
     "output_type": "execute_result"
    }
   ],
   "source": [
    "company[\"emp001\"][\"name\"]"
   ]
  },
  {
   "cell_type": "code",
   "execution_count": 22,
   "metadata": {},
   "outputs": [
    {
     "data": {
      "text/plain": [
       "35"
      ]
     },
     "execution_count": 22,
     "metadata": {},
     "output_type": "execute_result"
    }
   ],
   "source": [
    "temp[\"lucknow\"][2]"
   ]
  },
  {
   "cell_type": "code",
   "execution_count": 24,
   "metadata": {},
   "outputs": [
    {
     "name": "stdout",
     "output_type": "stream",
     "text": [
      "30.0\n"
     ]
    }
   ],
   "source": [
    "print(sum(temp[\"lucknow\"])/len(temp[\"lucknow\"]))"
   ]
  },
  {
   "cell_type": "code",
   "execution_count": null,
   "metadata": {},
   "outputs": [],
   "source": []
  }
 ],
 "metadata": {
  "kernelspec": {
   "display_name": "base",
   "language": "python",
   "name": "python3"
  },
  "language_info": {
   "codemirror_mode": {
    "name": "ipython",
    "version": 3
   },
   "file_extension": ".py",
   "mimetype": "text/x-python",
   "name": "python",
   "nbconvert_exporter": "python",
   "pygments_lexer": "ipython3",
   "version": "3.12.7"
  }
 },
 "nbformat": 4,
 "nbformat_minor": 2
}
