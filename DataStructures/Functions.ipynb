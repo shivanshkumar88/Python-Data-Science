{
 "cells": [
  {
   "cell_type": "markdown",
   "metadata": {},
   "source": [
    "### FUNCTIONS\n",
    "- It is a block of code which can be reused and recalled in a program.\n",
    "- It is of two type:\n",
    "- - User defined and ,\n",
    "- - Built-in functions. "
   ]
  },
  {
   "cell_type": "markdown",
   "metadata": {},
   "source": [
    "##### In user defined functions there are the following categories,\n",
    "- parameterized\n",
    "- non-parameterized\n",
    "- void \n",
    "- non-void\n",
    "- default"
   ]
  },
  {
   "cell_type": "markdown",
   "metadata": {},
   "source": [
    "- - TO CREATE A FUNCTION."
   ]
  },
  {
   "cell_type": "code",
   "execution_count": 9,
   "metadata": {},
   "outputs": [],
   "source": [
    "# NON-PARAMETERIZED FUNCTION: In this there will be no parameters and arguements are taken.\n",
    "def my_func(): #This line is called Function Definition.\n",
    "    print(\"hello from my_func\")"
   ]
  },
  {
   "cell_type": "code",
   "execution_count": 10,
   "metadata": {},
   "outputs": [
    {
     "name": "stdout",
     "output_type": "stream",
     "text": [
      "hello from my_func\n"
     ]
    }
   ],
   "source": [
    "my_func() #Function call/callable."
   ]
  },
  {
   "cell_type": "code",
   "execution_count": 11,
   "metadata": {},
   "outputs": [],
   "source": [
    "# PARAMETERIZED FUNCTION: In this both paramters and arguements are taken.\n",
    "# ALSO NON-RETURN (non void)FUCTION - here the output values can't be reused because we are using print statement.\n",
    "\n",
    "def sum(num1,num2): #Parameters\n",
    "    print(num1+num2)"
   ]
  },
  {
   "cell_type": "code",
   "execution_count": 12,
   "metadata": {},
   "outputs": [
    {
     "name": "stdout",
     "output_type": "stream",
     "text": [
      "50\n"
     ]
    }
   ],
   "source": [
    "sum(20,30) #Arguements"
   ]
  },
  {
   "cell_type": "code",
   "execution_count": 13,
   "metadata": {},
   "outputs": [],
   "source": [
    "def name(fname,lname):\n",
    "    print(fname+\" \"+lname)"
   ]
  },
  {
   "cell_type": "code",
   "execution_count": 14,
   "metadata": {},
   "outputs": [
    {
     "name": "stdout",
     "output_type": "stream",
     "text": [
      "shivansh kumar\n"
     ]
    }
   ],
   "source": [
    "name(\"shivansh\" , \"kumar\")"
   ]
  },
  {
   "cell_type": "code",
   "execution_count": 15,
   "metadata": {},
   "outputs": [],
   "source": [
    "def name(fname):\n",
    "    print(\"Hello\",fname)"
   ]
  },
  {
   "cell_type": "code",
   "execution_count": 16,
   "metadata": {},
   "outputs": [
    {
     "name": "stdout",
     "output_type": "stream",
     "text": [
      "Hello shivansh\n"
     ]
    }
   ],
   "source": [
    "name(\"shivansh\")"
   ]
  },
  {
   "cell_type": "code",
   "execution_count": 17,
   "metadata": {},
   "outputs": [],
   "source": [
    "def avg(num1,num2,num3,num4):\n",
    "    print((num1+num2+num3+num4)/4)"
   ]
  },
  {
   "cell_type": "code",
   "execution_count": 18,
   "metadata": {},
   "outputs": [
    {
     "name": "stdout",
     "output_type": "stream",
     "text": [
      "4.25\n"
     ]
    }
   ],
   "source": [
    "avg(2,4,5,6)"
   ]
  },
  {
   "cell_type": "code",
   "execution_count": 19,
   "metadata": {},
   "outputs": [
    {
     "name": "stdout",
     "output_type": "stream",
     "text": [
      "15\n"
     ]
    }
   ],
   "source": [
    "# RETURN FUNCTION(void): in this values can be reused by storing the output in a variable cause we are using return keyword.\n",
    "def func(x):\n",
    "    return 5*x\n",
    "\n",
    "a= func(3)\n",
    "print(a)"
   ]
  },
  {
   "cell_type": "code",
   "execution_count": 20,
   "metadata": {},
   "outputs": [
    {
     "name": "stdout",
     "output_type": "stream",
     "text": [
      "15\n"
     ]
    }
   ],
   "source": [
    "print(a)"
   ]
  },
  {
   "cell_type": "code",
   "execution_count": 21,
   "metadata": {},
   "outputs": [
    {
     "name": "stdout",
     "output_type": "stream",
     "text": [
      "I am from USA\n",
      "I am from POOKIESTAN😘\n",
      "I am from UK\n",
      "I am from INDIA\n"
     ]
    }
   ],
   "source": [
    "# DEFAULT PARAMETERIZED FUNCTION.\n",
    "\n",
    "def my_country(country=\"INDIA\"):\n",
    "    print(\"I am from \" + country)\n",
    "     \n",
    "my_country(\"USA\")\n",
    "my_country(\"POOKIESTAN😘\")\n",
    "my_country(\"UK\")\n",
    "my_country()"
   ]
  },
  {
   "cell_type": "markdown",
   "metadata": {},
   "source": [
    "### BUILT-IN METHODS\n",
    "- : to use these functions we use some type of libraries or some sort of logic imported from libraries"
   ]
  },
  {
   "cell_type": "code",
   "execution_count": 22,
   "metadata": {},
   "outputs": [],
   "source": [
    "import math"
   ]
  },
  {
   "cell_type": "code",
   "execution_count": 23,
   "metadata": {},
   "outputs": [
    {
     "name": "stdout",
     "output_type": "stream",
     "text": [
      "4.0\n",
      "8.0\n",
      "3.141592653589793\n",
      "2.718281828459045\n",
      "120\n",
      "3\n",
      "0.8939966636005579\n",
      "-0.4480736161291701\n",
      "-1.995200412208242\n",
      "60\n",
      "2.302585092994046\n"
     ]
    }
   ],
   "source": [
    "print(math.sqrt(16))\n",
    "print(math.pow(2,3))\n",
    "print(math.pi)\n",
    "print(math.e)\n",
    "print(math.factorial(5))\n",
    "print(math.gcd(12,15))\n",
    "print(math.sin(90))\n",
    "print(math.cos(90))\n",
    "print(math.tan(90))\n",
    "print(math.lcm(12,15))\n",
    "print(math.log(10))"
   ]
  },
  {
   "cell_type": "code",
   "execution_count": 24,
   "metadata": {},
   "outputs": [],
   "source": [
    "from random import random,randint,choice,shuffle"
   ]
  },
  {
   "cell_type": "code",
   "execution_count": 27,
   "metadata": {},
   "outputs": [
    {
     "name": "stdout",
     "output_type": "stream",
     "text": [
      "get a random number between 0 nd 1: 0.6025659128361996\n",
      "get a random number between 1 and 100: 10\n",
      "get a random number from a list: 3\n",
      "('shuffle a list:', ['Shiv', 'yuvi', 'insha', 'surbhi', 'sparsh'])\n"
     ]
    }
   ],
   "source": [
    "print(\"get a random number between 0 nd 1:\",random())\n",
    "print(\"get a random number between 1 and 100:\",randint(1,100))\n",
    "print(\"get a random number from a list:\",choice([1,2,3,4,5]))\n",
    "names=[\"Shiv\",\"yuvi\",\"surbhi\",\"sparsh\",\"insha\"]\n",
    "shuffle(names)\n",
    "print((\"shuffle a list:\",names))"
   ]
  },
  {
   "cell_type": "code",
   "execution_count": 28,
   "metadata": {},
   "outputs": [],
   "source": [
    "from datetime import datetime as dt"
   ]
  },
  {
   "cell_type": "code",
   "execution_count": 29,
   "metadata": {},
   "outputs": [
    {
     "name": "stdout",
     "output_type": "stream",
     "text": [
      "current date and time: 2024-12-21 18:26:31.021743\n",
      "current date : 2024-12-21\n",
      "current time: 18:26:31.023022\n",
      "current year: 2024\n",
      "current month : 12\n",
      "current day: 21\n",
      "current hour: 18\n",
      "current minute: 26\n",
      "current second: 31\n",
      "current microsecond: 23022\n"
     ]
    }
   ],
   "source": [
    "print(\"current date and time:\",dt.now())\n",
    "print(\"current date :\",dt.now().date())\n",
    "print(\"current time:\",dt.now().time())\n",
    "print(\"current year:\",dt.now().year)\n",
    "print(\"current month :\",dt.now().month)\n",
    "print(\"current day:\",dt.now().day)\n",
    "print(\"current hour:\",dt.now().hour)\n",
    "print(\"current minute:\",dt.now().minute)\n",
    "print(\"current second:\",dt.now().second)\n",
    "print(\"current microsecond:\",dt.now().microsecond)\n",
    "\n",
    "\n"
   ]
  },
  {
   "cell_type": "code",
   "execution_count": 32,
   "metadata": {},
   "outputs": [
    {
     "name": "stdout",
     "output_type": "stream",
     "text": [
      "Date in dd-mm-yyyy format: 21-12-2024\n",
      "Date in dd-mm-yyyy format: 21/12/24\n"
     ]
    }
   ],
   "source": [
    "#To format date and time\n",
    "date=dt.strftime(dt.now(),\"%d-%m-%Y\")\n",
    "print(\"Date in dd-mm-yyyy format:\",date)\n",
    "date=dt.strftime(dt.now(),\"%d/%m/%y\")\n",
    "print(\"Date in dd-mm-yyyy format:\",date)"
   ]
  },
  {
   "cell_type": "code",
   "execution_count": 34,
   "metadata": {},
   "outputs": [
    {
     "name": "stdout",
     "output_type": "stream",
     "text": [
      "Time in 24 hour format: 18:39:23\n"
     ]
    }
   ],
   "source": [
    "time=dt.strftime(dt.now(),\"%H:%M:%S\")\n",
    "print(\"Time in 24 hour format:\",time)"
   ]
  },
  {
   "cell_type": "code",
   "execution_count": 36,
   "metadata": {},
   "outputs": [],
   "source": [
    "import os #operating system"
   ]
  },
  {
   "cell_type": "code",
   "execution_count": 37,
   "metadata": {},
   "outputs": [
    {
     "name": "stdout",
     "output_type": "stream",
     "text": [
      "current working directory: c:\\Users\\Shivansh Kumar\\Desktop\\Python-Data-Science\\DataStructures\n"
     ]
    }
   ],
   "source": [
    "#current working directory(cwd)\n",
    "print(\"current working directory:\",os.getcwd())"
   ]
  },
  {
   "cell_type": "code",
   "execution_count": 38,
   "metadata": {},
   "outputs": [
    {
     "name": "stdout",
     "output_type": "stream",
     "text": [
      "files in current directory: ['Dictionary.ipynb', 'Functions.ipynb', 'Lists.ipynb', 'logicbaseprogramming.ipynb', 'practicequestions.ipynb', 'strings.ipynb']\n",
      "6 files found\n"
     ]
    }
   ],
   "source": [
    "#list all the files and folders in current directory\n",
    "files=os.listdir()\n",
    "print(\"files in current directory:\",files)\n",
    "print(len(files),\"files found\")"
   ]
  },
  {
   "cell_type": "code",
   "execution_count": null,
   "metadata": {},
   "outputs": [],
   "source": [
    "files=os.listdir(r\"\")#here l 'r' is called raw string "
   ]
  },
  {
   "cell_type": "code",
   "execution_count": 39,
   "metadata": {},
   "outputs": [
    {
     "data": {
      "text/plain": [
       "<generator object walk at 0x00000226A7AD25A0>"
      ]
     },
     "execution_count": 39,
     "metadata": {},
     "output_type": "execute_result"
    }
   ],
   "source": [
    "os.walk(\"C:\")"
   ]
  },
  {
   "cell_type": "code",
   "execution_count": null,
   "metadata": {},
   "outputs": [],
   "source": [
    "total_files = 0\n",
    "for path,folders,files in os.walk(\"C:\"):\n",
    "    total_files+=len files"
   ]
  }
 ],
 "metadata": {
  "kernelspec": {
   "display_name": "base",
   "language": "python",
   "name": "python3"
  },
  "language_info": {
   "codemirror_mode": {
    "name": "ipython",
    "version": 3
   },
   "file_extension": ".py",
   "mimetype": "text/x-python",
   "name": "python",
   "nbconvert_exporter": "python",
   "pygments_lexer": "ipython3",
   "version": "3.12.7"
  }
 },
 "nbformat": 4,
 "nbformat_minor": 2
}
