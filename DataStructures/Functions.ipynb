{
 "cells": [
  {
   "cell_type": "markdown",
   "metadata": {},
   "source": [
    "### FUNCTIONS\n",
    "- It is a block of code which can be reused and recalled in a program.\n",
    "- It is of two type:\n",
    "- - User defined and ,\n",
    "- - Built-in functions. "
   ]
  },
  {
   "cell_type": "markdown",
   "metadata": {},
   "source": [
    "##### In user defined functions there are the following categories,\n",
    "- parameterized\n",
    "- non-parameterized\n",
    "- void \n",
    "- non-void\n",
    "- default"
   ]
  },
  {
   "cell_type": "markdown",
   "metadata": {},
   "source": [
    "- - TO CREATE A FUNCTION."
   ]
  },
  {
   "cell_type": "code",
   "execution_count": 10,
   "metadata": {},
   "outputs": [],
   "source": [
    "# NON-PARAMETERIZED FUNCTION: In this there will be no parameters and arguements are taken.\n",
    "def my_func(): #This line is called Function Definition.\n",
    "    print(\"hello from my_func\")"
   ]
  },
  {
   "cell_type": "code",
   "execution_count": 5,
   "metadata": {},
   "outputs": [
    {
     "name": "stdout",
     "output_type": "stream",
     "text": [
      "hello from my_func\n"
     ]
    }
   ],
   "source": [
    "my_func() #Function call/callable."
   ]
  },
  {
   "cell_type": "code",
   "execution_count": 29,
   "metadata": {},
   "outputs": [],
   "source": [
    "# PARAMETERIZED FUNCTION: In this both paramters and arguements are taken.\n",
    "# ALSO NON-RETURN (non void)FUCTION - here the output values can't be reused because we are using print statement.\n",
    "\n",
    "def sum(num1,num2): #Parameters\n",
    "    print(num1+num2)"
   ]
  },
  {
   "cell_type": "code",
   "execution_count": 8,
   "metadata": {},
   "outputs": [
    {
     "name": "stdout",
     "output_type": "stream",
     "text": [
      "50\n"
     ]
    }
   ],
   "source": [
    "sum(20,30) #Arguements"
   ]
  },
  {
   "cell_type": "code",
   "execution_count": 16,
   "metadata": {},
   "outputs": [],
   "source": [
    "def name(fname,lname):\n",
    "    print(fname+\" \"+lname)"
   ]
  },
  {
   "cell_type": "code",
   "execution_count": 17,
   "metadata": {},
   "outputs": [
    {
     "name": "stdout",
     "output_type": "stream",
     "text": [
      "shivansh kumar\n"
     ]
    }
   ],
   "source": [
    "name(\"shivansh\" , \"kumar\")"
   ]
  },
  {
   "cell_type": "code",
   "execution_count": 18,
   "metadata": {},
   "outputs": [],
   "source": [
    "def name(fname):\n",
    "    print(\"Hello\",fname)"
   ]
  },
  {
   "cell_type": "code",
   "execution_count": 19,
   "metadata": {},
   "outputs": [
    {
     "name": "stdout",
     "output_type": "stream",
     "text": [
      "Hello shivansh\n"
     ]
    }
   ],
   "source": [
    "name(\"shivansh\")"
   ]
  },
  {
   "cell_type": "code",
   "execution_count": 26,
   "metadata": {},
   "outputs": [],
   "source": [
    "def avg(num1,num2,num3,num4):\n",
    "    print((num1+num2+num3+num4)/4)"
   ]
  },
  {
   "cell_type": "code",
   "execution_count": 27,
   "metadata": {},
   "outputs": [
    {
     "name": "stdout",
     "output_type": "stream",
     "text": [
      "4.25\n"
     ]
    }
   ],
   "source": [
    "avg(2,4,5,6)"
   ]
  },
  {
   "cell_type": "code",
   "execution_count": 33,
   "metadata": {},
   "outputs": [
    {
     "name": "stdout",
     "output_type": "stream",
     "text": [
      "15\n"
     ]
    }
   ],
   "source": [
    "# RETURN FUNCTION(void): in this values can be reused by storing the output in a variable cause we are using return keyword.\n",
    "def func(x):\n",
    "    return 5*x\n",
    "\n",
    "a= func(3)\n",
    "print(a)"
   ]
  },
  {
   "cell_type": "code",
   "execution_count": 31,
   "metadata": {},
   "outputs": [
    {
     "name": "stdout",
     "output_type": "stream",
     "text": [
      "15\n"
     ]
    }
   ],
   "source": [
    "print(a)"
   ]
  },
  {
   "cell_type": "code",
   "execution_count": 38,
   "metadata": {},
   "outputs": [
    {
     "name": "stdout",
     "output_type": "stream",
     "text": [
      "I am from USA\n",
      "I am from POOKIESTAN😘\n",
      "I am from UK\n",
      "I am from INDIA\n"
     ]
    }
   ],
   "source": [
    "# DEFAULT PARAMETERIZED FUNCTION.\n",
    "\n",
    "def my_country(country=\"INDIA\"):\n",
    "    print(\"I am from \" + country)\n",
    "     \n",
    "my_country(\"USA\")\n",
    "my_country(\"POOKIESTAN😘\")\n",
    "my_country(\"UK\")\n",
    "my_country()"
   ]
  },
  {
   "cell_type": "code",
   "execution_count": null,
   "metadata": {},
   "outputs": [],
   "source": []
  }
 ],
 "metadata": {
  "kernelspec": {
   "display_name": "base",
   "language": "python",
   "name": "python3"
  },
  "language_info": {
   "codemirror_mode": {
    "name": "ipython",
    "version": 3
   },
   "file_extension": ".py",
   "mimetype": "text/x-python",
   "name": "python",
   "nbconvert_exporter": "python",
   "pygments_lexer": "ipython3",
   "version": "3.12.7"
  }
 },
 "nbformat": 4,
 "nbformat_minor": 2
}
