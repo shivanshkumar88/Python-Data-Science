{
 "cells": [
  {
   "cell_type": "markdown",
   "metadata": {},
   "source": [
    "### Data Structures\n",
    "- "
   ]
  },
  {
   "cell_type": "code",
   "execution_count": 2,
   "metadata": {},
   "outputs": [
    {
     "name": "stdout",
     "output_type": "stream",
     "text": [
      "['instagram', 'snapchat', 'linkdein', 'twitter', 'drive', 'zomato', 'swiggy', 'facebook', 'maps', 'google', 'instamart', 'youtube', 'safari', 'spotify', 'ola', 'uber']\n"
     ]
    }
   ],
   "source": [
    "apps =[\"instagram\",\"snapchat\",\"linkdein\",\"twitter\",\"drive\",\"zomato\",\"swiggy\",\"facebook\",\"maps\",\"google\",\"instamart\",\"youtube\",\"safari\",\"spotify\",\"ola\",\"uber\"]\n",
    "print(apps)"
   ]
  },
  {
   "cell_type": "markdown",
   "metadata": {},
   "source": [
    "#### concept of INDEXING\n",
    "- To access single element from the list."
   ]
  },
  {
   "cell_type": "code",
   "execution_count": 3,
   "metadata": {},
   "outputs": [
    {
     "name": "stdout",
     "output_type": "stream",
     "text": [
      "facebook\n",
      "twitter\n",
      "zomato\n",
      "safari\n"
     ]
    }
   ],
   "source": [
    "apps =[\"instagram\",\"snapchat\",\"linkdein\",\"twitter\",\"drive\",\"zomato\",\"swiggy\",\"facebook\",\"maps\",\"google\",\"instamart\",\"youtube\",\"safari\",\"spotify\",\"ola\",\"uber\"]\n",
    "print(apps[7])\n",
    "print(apps[3])\n",
    "print(apps[5])\n",
    "print(apps[12])"
   ]
  },
  {
   "cell_type": "code",
   "execution_count": 4,
   "metadata": {},
   "outputs": [
    {
     "name": "stdout",
     "output_type": "stream",
     "text": [
      "twitter\n",
      "swiggy\n"
     ]
    }
   ],
   "source": [
    "apps =[\"instagram\",\"snapchat\",\"linkdein\",\"twitter\",\"drive\",\"zomato\",\"swiggy\",\"facebook\",\"maps\",\"google\",\"instamart\",\"youtube\",\"safari\",\"spotify\",\"ola\",\"uber\"]\n",
    "print(apps[3])\n",
    "print(apps[6])"
   ]
  },
  {
   "cell_type": "markdown",
   "metadata": {},
   "source": [
    "#### concept of SLICING\n",
    "- \n"
   ]
  },
  {
   "cell_type": "code",
   "execution_count": 5,
   "metadata": {},
   "outputs": [],
   "source": [
    "#syntax of slicing: \n",
    "# var[start:end]\n",
    "# var[start:end:gap]"
   ]
  },
  {
   "cell_type": "code",
   "execution_count": 6,
   "metadata": {},
   "outputs": [
    {
     "name": "stdout",
     "output_type": "stream",
     "text": [
      "['snapchat', 'linkdein', 'twitter', 'drive', 'zomato']\n",
      "['snapchat', 'twitter', 'zomato', 'facebook', 'google']\n",
      "['zomato', 'swiggy', 'facebook', 'maps', 'google', 'instamart', 'youtube', 'safari', 'spotify', 'ola', 'uber']\n",
      "['instagram', 'snapchat', 'linkdein', 'twitter', 'drive', 'zomato', 'swiggy']\n",
      "['instagram', 'linkdein', 'drive', 'swiggy', 'maps', 'instamart', 'safari', 'ola']\n",
      "['instagram', 'twitter', 'swiggy', 'google', 'safari', 'uber']\n",
      "['instagram', 'snapchat', 'linkdein', 'twitter', 'drive', 'zomato', 'swiggy', 'facebook', 'maps', 'google', 'instamart', 'youtube', 'safari', 'spotify', 'ola', 'uber']\n"
     ]
    }
   ],
   "source": [
    "apps =[\"instagram\",\"snapchat\",\"linkdein\",\"twitter\",\"drive\",\"zomato\",\"swiggy\",\"facebook\",\"maps\",\"google\",\"instamart\",\"youtube\",\"safari\",\"spotify\",\"ola\",\"uber\"]\n",
    "print(apps[1:6])\n",
    "print(apps[1:10:2])\n",
    "print(apps[5:])\n",
    "print(apps[:7])\n",
    "print(apps[::2])\n",
    "print(apps[::3])\n",
    "print(apps[:])"
   ]
  },
  {
   "cell_type": "markdown",
   "metadata": {},
   "source": [
    "#### METHODS TO ACCESS THE ELEMENTS OF LIST (list is a mutuable datatype)\n",
    "- append : to add elements at the end of the list. (append always add the element to the end of the list.)\n",
    "- insert : to add elements at specific position. (to add an element to a specific index/indexing.)\n",
    "- pop : to delete element using index position. (to delete an element using indexing use pop.)\n",
    "- remove : to delete element using element's name. (to delete an element using its name.)\n",
    "- sort : to sort the list in some order. (arrange our list in order and if integers then by default it arranges our list from ascending to descending , and if names are there it arranges our list from alphabetical order and if we write a word starting from capital letter then this function give it some importance and make it to the front.)\n",
    "- copy : to create a copy of the whole list.\n",
    "- extend : to combine two list.\n",
    "\n",
    "- DISADVANTAGE of this : this can only access only one item at a time."
   ]
  },
  {
   "cell_type": "code",
   "execution_count": 7,
   "metadata": {},
   "outputs": [
    {
     "name": "stdout",
     "output_type": "stream",
     "text": [
      "['instagram', 'snapchat', 'linkdein', 'twitter', 'drive', 'zomato', 'swiggy', 'facebook', 'maps', 'google', 'instamart', 'youtube', 'safari', 'spotify', 'ola', 'uber']\n"
     ]
    }
   ],
   "source": [
    "print(apps)"
   ]
  },
  {
   "cell_type": "code",
   "execution_count": 8,
   "metadata": {},
   "outputs": [
    {
     "name": "stdout",
     "output_type": "stream",
     "text": [
      "['instagram', 'snapchat', 'linkdein', 'twitter', 'drive', 'zomato', 'swiggy', 'facebook', 'maps', 'google', 'instamart', 'youtube', 'safari', 'spotify', 'ola', 'uber', 'apple music']\n"
     ]
    }
   ],
   "source": [
    "apps.append(\"apple music\")\n",
    "print(apps)"
   ]
  },
  {
   "cell_type": "code",
   "execution_count": 9,
   "metadata": {},
   "outputs": [
    {
     "name": "stdout",
     "output_type": "stream",
     "text": [
      "['instagram', 'snapchat', 'linkdein', 'apple music', 'twitter', 'drive', 'zomato', 'swiggy', 'facebook', 'maps', 'google', 'instamart', 'youtube', 'safari', 'spotify', 'ola', 'uber', 'apple music']\n"
     ]
    }
   ],
   "source": [
    "apps.insert(3,\"apple music\")\n",
    "print(apps)"
   ]
  },
  {
   "cell_type": "code",
   "execution_count": 10,
   "metadata": {},
   "outputs": [
    {
     "name": "stdout",
     "output_type": "stream",
     "text": [
      "['instagram', 'snapchat', 'linkdein', 'apple music', 'twitter', 'zomato', 'swiggy', 'facebook', 'maps', 'google', 'instamart', 'youtube', 'safari', 'spotify', 'ola', 'uber', 'apple music']\n"
     ]
    }
   ],
   "source": [
    "apps.pop(5)\n",
    "print(apps)"
   ]
  },
  {
   "cell_type": "code",
   "execution_count": 11,
   "metadata": {},
   "outputs": [
    {
     "name": "stdout",
     "output_type": "stream",
     "text": [
      "['instagram', 'linkdein', 'apple music', 'twitter', 'zomato', 'swiggy', 'facebook', 'maps', 'google', 'instamart', 'youtube', 'safari', 'spotify', 'ola', 'uber', 'apple music']\n"
     ]
    }
   ],
   "source": [
    "apps.remove(\"snapchat\")\n",
    "print(apps)"
   ]
  },
  {
   "cell_type": "code",
   "execution_count": 12,
   "metadata": {},
   "outputs": [
    {
     "name": "stdout",
     "output_type": "stream",
     "text": [
      "['apple music', 'apple music', 'facebook', 'google', 'instagram', 'instamart', 'linkdein', 'maps', 'ola', 'safari', 'spotify', 'swiggy', 'twitter', 'uber', 'youtube', 'zomato']\n"
     ]
    }
   ],
   "source": [
    "apps.sort()\n",
    "print(apps)"
   ]
  },
  {
   "cell_type": "code",
   "execution_count": 15,
   "metadata": {},
   "outputs": [
    {
     "name": "stdout",
     "output_type": "stream",
     "text": [
      "['apple music', 'apple music', 'facebook', 'google', 'instagram', 'instamart', 'linkdein', 'maps', 'ola', 'safari', 'spotify', 'swiggy', 'twitter', 'uber', 'youtube', 'zomato']\n"
     ]
    }
   ],
   "source": [
    "companies = apps.copy()\n",
    "print(companies)"
   ]
  },
  {
   "cell_type": "code",
   "execution_count": 16,
   "metadata": {},
   "outputs": [
    {
     "name": "stdout",
     "output_type": "stream",
     "text": [
      "['apple music', 'apple music', 'facebook', 'google', 'instagram', 'instamart', 'linkdein', 'maps', 'ola', 'safari', 'spotify', 'swiggy', 'twitter', 'uber', 'youtube', 'zomato', 'apple music', 'apple music', 'facebook', 'google', 'instagram', 'instamart', 'linkdein', 'maps', 'ola', 'safari', 'spotify', 'swiggy', 'twitter', 'uber', 'youtube', 'zomato']\n"
     ]
    }
   ],
   "source": [
    "apps.extend(companies)\n",
    "print(apps)"
   ]
  },
  {
   "cell_type": "markdown",
   "metadata": {},
   "source": [
    "##### QUESTIONS ON LISTS USING ABOVE METHODS."
   ]
  },
  {
   "cell_type": "code",
   "execution_count": 27,
   "metadata": {},
   "outputs": [
    {
     "name": "stdout",
     "output_type": "stream",
     "text": [
      "2\n",
      "4\n",
      "6\n",
      "8\n",
      "10\n",
      "12\n",
      "14\n",
      "16\n",
      "18\n",
      "20.0\n"
     ]
    }
   ],
   "source": [
    "#Questions\n",
    "# 1. take a list and print all the even numbers from it.\n",
    "numbers=[1,2,3,4,5,6,7,8,9,10,11,12,13,14,15,16,17,18,19,20.]\n",
    "for x in numbers:\n",
    "    if x%2==0:\n",
    "        print(x)"
   ]
  },
  {
   "cell_type": "code",
   "execution_count": 32,
   "metadata": {},
   "outputs": [
    {
     "name": "stdout",
     "output_type": "stream",
     "text": [
      "210\n"
     ]
    }
   ],
   "source": [
    "#2.Take a list of numbers and print the sum of all the numbers in the lists.\n",
    "numbers=[1,2,3,4,5,6,7,8,9,10,11,12,13,14,15,16,17,18,19,20]\n",
    "sum=0\n",
    "for i in numbers:\n",
    "    sum+=i\n",
    "print(sum)"
   ]
  },
  {
   "cell_type": "code",
   "execution_count": null,
   "metadata": {},
   "outputs": [
    {
     "name": "stdout",
     "output_type": "stream",
     "text": [
      "1\n",
      "4\n",
      "9\n",
      "16\n",
      "25\n",
      "36\n",
      "49\n",
      "64\n",
      "81\n",
      "100\n",
      "121\n",
      "144\n",
      "169\n",
      "196\n",
      "225\n",
      "256\n",
      "289\n",
      "324\n",
      "361\n",
      "400\n"
     ]
    }
   ],
   "source": [
    "#3. Take a list of numbers and print the square of each number in the list.\n",
    "numbers=[1,2,3,4,5,6,7,8,9,10,11,12,13,14,15,16,17,18,19,20]\n",
    "for i in numbers:\n",
    "    print(i**2)"
   ]
  },
  {
   "cell_type": "code",
   "execution_count": 1,
   "metadata": {},
   "outputs": [
    {
     "name": "stdout",
     "output_type": "stream",
     "text": [
      "[1, 4, 9, 16, 25, 36, 49, 64, 81, 100, 121, 144, 169, 196, 225, 256, 289, 324, 361, 400]\n"
     ]
    }
   ],
   "source": [
    "#3. Take a list of numbers and print the square of each number in the list in a new list.\n",
    "numbers=[1,2,3,4,5,6,7,8,9,10,11,12,13,14,15,16,17,18,19,20]\n",
    "square=[]\n",
    "for i in numbers:\n",
    "    square.append(i**2)\n",
    "print(square)\n",
    "     "
   ]
  },
  {
   "cell_type": "markdown",
   "metadata": {},
   "source": [
    "## LIST COMPREHENSION"
   ]
  },
  {
   "cell_type": "code",
   "execution_count": 6,
   "metadata": {},
   "outputs": [
    {
     "name": "stdout",
     "output_type": "stream",
     "text": [
      "[2, 4, 6, 8, 10, 12, 14, 16, 18, 20.0]\n"
     ]
    }
   ],
   "source": [
    "numbers=[1,2,3,4,5,6,7,8,9,10,11,12,13,14,15,16,17,18,19,20.]\n",
    "even = [i for i in numbers if i%2==0]\n",
    "print(even)"
   ]
  },
  {
   "cell_type": "code",
   "execution_count": 7,
   "metadata": {},
   "outputs": [
    {
     "name": "stdout",
     "output_type": "stream",
     "text": [
      "[1, 8, 27, 64, 125, 216, 343, 512, 729, 1000, 1331, 1728, 2197, 2744, 3375, 4096, 4913, 5832, 6859, 8000.0]\n"
     ]
    }
   ],
   "source": [
    "numbers=[1,2,3,4,5,6,7,8,9,10,11,12,13,14,15,16,17,18,19,20.]\n",
    "cube=[i**3 for i in numbers]\n",
    "print(cube)"
   ]
  },
  {
   "cell_type": "code",
   "execution_count": null,
   "metadata": {},
   "outputs": [],
   "source": []
  }
 ],
 "metadata": {
  "kernelspec": {
   "display_name": "base",
   "language": "python",
   "name": "python3"
  },
  "language_info": {
   "codemirror_mode": {
    "name": "ipython",
    "version": 3
   },
   "file_extension": ".py",
   "mimetype": "text/x-python",
   "name": "python",
   "nbconvert_exporter": "python",
   "pygments_lexer": "ipython3",
   "version": "3.12.7"
  }
 },
 "nbformat": 4,
 "nbformat_minor": 2
}
