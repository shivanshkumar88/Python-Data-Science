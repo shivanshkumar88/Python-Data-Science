{
 "cells": [
  {
   "cell_type": "markdown",
   "metadata": {},
   "source": [
    "### STRING"
   ]
  },
  {
   "cell_type": "code",
   "execution_count": 14,
   "metadata": {},
   "outputs": [
    {
     "name": "stdout",
     "output_type": "stream",
     "text": [
      "Shivansh kumar\n"
     ]
    }
   ],
   "source": [
    "name = \"Shivansh kumar\"\n",
    "print(name)"
   ]
  },
  {
   "cell_type": "code",
   "execution_count": 15,
   "metadata": {},
   "outputs": [
    {
     "name": "stdout",
     "output_type": "stream",
     "text": [
      "Shivansh\n"
     ]
    }
   ],
   "source": [
    "print(name[0:8])"
   ]
  },
  {
   "cell_type": "markdown",
   "metadata": {},
   "source": [
    "#### Concepts of Strings\n"
   ]
  },
  {
   "cell_type": "code",
   "execution_count": 16,
   "metadata": {},
   "outputs": [
    {
     "name": "stdout",
     "output_type": "stream",
     "text": [
      "Shivansh kumar is a good boy.\n"
     ]
    }
   ],
   "source": [
    "# 1. String Concatenation (means to add two or more strings.)\n",
    "print(name+\" is a good boy.\")"
   ]
  },
  {
   "cell_type": "code",
   "execution_count": 17,
   "metadata": {},
   "outputs": [
    {
     "name": "stdout",
     "output_type": "stream",
     "text": [
      "23\n",
      "5\n",
      "2+3\n"
     ]
    }
   ],
   "source": [
    "a=2\n",
    "b=\"3\"\n",
    "print(str(a)+b)\n",
    "print(a+int(b))\n",
    "#formatting\n",
    "print(f\"{a}+{b}\")"
   ]
  },
  {
   "cell_type": "code",
   "execution_count": 18,
   "metadata": {},
   "outputs": [
    {
     "name": "stdout",
     "output_type": "stream",
     "text": [
      "heyheyheyheyhey\n"
     ]
    }
   ],
   "source": [
    "# 2. String Duplication(means to write a string and give it no. of times to multiply it.)\n",
    "x=\"hey\"\n",
    "print(x*5)"
   ]
  },
  {
   "cell_type": "code",
   "execution_count": 19,
   "metadata": {},
   "outputs": [
    {
     "data": {
      "text/plain": [
       "'BEAUTIFUL'"
      ]
     },
     "execution_count": 19,
     "metadata": {},
     "output_type": "execute_result"
    }
   ],
   "source": [
    "# 3. To convert the string in uppercase.\n",
    "x=\"beautiful\"\n",
    "x.upper()\n"
   ]
  },
  {
   "cell_type": "code",
   "execution_count": 20,
   "metadata": {},
   "outputs": [
    {
     "data": {
      "text/plain": [
       "'beautiful'"
      ]
     },
     "execution_count": 20,
     "metadata": {},
     "output_type": "execute_result"
    }
   ],
   "source": [
    "# 4. To convert the string in lowercase.\n",
    "x=\"beautiful\"\n",
    "x.lower()"
   ]
  },
  {
   "cell_type": "code",
   "execution_count": 21,
   "metadata": {},
   "outputs": [
    {
     "data": {
      "text/plain": [
       "'Beautiful'"
      ]
     },
     "execution_count": 21,
     "metadata": {},
     "output_type": "execute_result"
    }
   ],
   "source": [
    "# 5. To convert the  first character of string in uppercase.\n",
    "x=\"beautiful\"\n",
    "x.capitalize()"
   ]
  },
  {
   "cell_type": "code",
   "execution_count": 22,
   "metadata": {},
   "outputs": [
    {
     "data": {
      "text/plain": [
       "['you', 'are', 'a', 'fool']"
      ]
     },
     "execution_count": 22,
     "metadata": {},
     "output_type": "execute_result"
    }
   ],
   "source": [
    "# 6. Split method , to split the string.\n",
    "a = \" you are a fool\"\n",
    "a.split()"
   ]
  },
  {
   "cell_type": "code",
   "execution_count": 23,
   "metadata": {},
   "outputs": [
    {
     "name": "stdout",
     "output_type": "stream",
     "text": [
      "jhonny jhonny yes papa\n",
      "eating sugar no papa\n",
      "telling lies no papa\n",
      "open your mouth hahahah\n"
     ]
    }
   ],
   "source": [
    "\n",
    "poem='''jhonny jhonny yes papa\n",
    "eating sugar no papa\n",
    "telling lies no papa\n",
    "open your mouth hahahah'''\n",
    "print(poem)"
   ]
  },
  {
   "cell_type": "code",
   "execution_count": 24,
   "metadata": {},
   "outputs": [
    {
     "data": {
      "text/plain": [
       "['jhonny jhonny yes papa',\n",
       " 'eating sugar no papa',\n",
       " 'telling lies no papa',\n",
       " 'open your mouth hahahah']"
      ]
     },
     "execution_count": 24,
     "metadata": {},
     "output_type": "execute_result"
    }
   ],
   "source": [
    "# 7. Split lines method.\n",
    "poem.splitlines()"
   ]
  },
  {
   "cell_type": "code",
   "execution_count": 26,
   "metadata": {},
   "outputs": [
    {
     "name": "stdout",
     "output_type": "stream",
     "text": [
      "jhonny jhonny no papa\n",
      "eating sugar no papa\n",
      "telling lies no papa\n",
      "open your mouth hahahah\n"
     ]
    }
   ],
   "source": [
    "# 8. to replace a word in the string\n",
    "p = poem.replace(\"yes\",\"no\") #take a new variable for it to print\n",
    "print(p)"
   ]
  },
  {
   "cell_type": "code",
   "execution_count": 27,
   "metadata": {},
   "outputs": [
    {
     "name": "stdout",
     "output_type": "stream",
     "text": [
      "jhonny jhonny no papa\n",
      "drinking sugar no papa\n",
      "telling truth no papa\n",
      "open your eyes hahahah\n"
     ]
    }
   ],
   "source": [
    "p = poem.replace(\"yes\",\"no\").replace(\"eating\",\"drinking\").replace(\"lies\",\"truth\").replace(\"mouth\",\"eyes\")\n",
    "print(p)"
   ]
  },
  {
   "cell_type": "code",
   "execution_count": null,
   "metadata": {},
   "outputs": [
    {
     "data": {
      "text/plain": [
       "14"
      ]
     },
     "execution_count": 28,
     "metadata": {},
     "output_type": "execute_result"
    }
   ],
   "source": [
    "# 9. To find a letter in the string.\n",
    "p.find(\"no\")\n",
    "# here in output = 14 is the index position of the first one."
   ]
  },
  {
   "cell_type": "code",
   "execution_count": 31,
   "metadata": {},
   "outputs": [
    {
     "data": {
      "text/plain": [
       "'www.google.com'"
      ]
     },
     "execution_count": 31,
     "metadata": {},
     "output_type": "execute_result"
    }
   ],
   "source": [
    "url = [\"www\",\"google\",\"com\"]\n",
    "\".\".join(url)"
   ]
  },
  {
   "cell_type": "code",
   "execution_count": null,
   "metadata": {},
   "outputs": [],
   "source": []
  }
 ],
 "metadata": {
  "kernelspec": {
   "display_name": "base",
   "language": "python",
   "name": "python3"
  },
  "language_info": {
   "codemirror_mode": {
    "name": "ipython",
    "version": 3
   },
   "file_extension": ".py",
   "mimetype": "text/x-python",
   "name": "python",
   "nbconvert_exporter": "python",
   "pygments_lexer": "ipython3",
   "version": "3.12.7"
  }
 },
 "nbformat": 4,
 "nbformat_minor": 2
}
