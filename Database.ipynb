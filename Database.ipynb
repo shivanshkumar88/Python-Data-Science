{
 "cells": [
  {
   "cell_type": "markdown",
   "metadata": {},
   "source": [
    "### Here, we will study about SQL alcchemy\n",
    "#### Types of database\n",
    "- Relational database( MySQL) {data goes in tabular form , rows and columns}\n",
    "- Non-Relational database( MongoDB) {Stores data in flexible formats like key-value pairs, documents}"
   ]
  },
  {
   "cell_type": "markdown",
   "metadata": {},
   "source": [
    "- CRUD operation {Create,Retrieve,Update,Delete}"
   ]
  },
  {
   "cell_type": "code",
   "execution_count": 16,
   "metadata": {},
   "outputs": [],
   "source": [
    "from sqlalchemy import create_engine, Column , Integer, String\n",
    "from sqlalchemy.orm import declarative_base, sessionmaker"
   ]
  },
  {
   "cell_type": "markdown",
   "metadata": {},
   "source": [
    "- create_engine : It is used to make connection from the database.\n",
    "- column : It defines columns in database.\n",
    "- Integer and String : datatype of values in database.\n",
    "- declarative_base : It is used to declare a base on which we load database and do further work.\n",
    "- sessionmaker : It is used to run multiple queries at once, this automatically makes session and handles it."
   ]
  },
  {
   "cell_type": "code",
   "execution_count": 17,
   "metadata": {},
   "outputs": [],
   "source": [
    "engine = create_engine(\"sqlite:///user.db\")"
   ]
  },
  {
   "cell_type": "code",
   "execution_count": 18,
   "metadata": {},
   "outputs": [],
   "source": [
    "Base = declarative_base()"
   ]
  },
  {
   "cell_type": "code",
   "execution_count": 19,
   "metadata": {},
   "outputs": [],
   "source": [
    "class User(Base):\n",
    "    __tablename__ = \"user\"  # Fix: Double underscores\n",
    "\n",
    "    id = Column(Integer, primary_key=True)\n",
    "    name = Column(String) \n",
    "    password = Column(String)\n"
   ]
  },
  {
   "cell_type": "code",
   "execution_count": 20,
   "metadata": {},
   "outputs": [],
   "source": [
    "Base.metadata.create_all(engine)"
   ]
  },
  {
   "cell_type": "code",
   "execution_count": 21,
   "metadata": {},
   "outputs": [],
   "source": [
    "Session = sessionmaker(bind=engine)\n",
    "session = Session()"
   ]
  },
  {
   "cell_type": "code",
   "execution_count": 22,
   "metadata": {},
   "outputs": [],
   "source": [
    "#Create user\n",
    "def create_user(name,password):\n",
    "    new_user = User(name=name , password=password)\n",
    "    session.add(new_user)\n",
    "    session.commit()\n",
    "    print(f'User {name} added successfully')\n",
    "\n"
   ]
  },
  {
   "cell_type": "code",
   "execution_count": 23,
   "metadata": {},
   "outputs": [
    {
     "name": "stdout",
     "output_type": "stream",
     "text": [
      "User John added successfully\n",
      "User Sara added successfully\n"
     ]
    }
   ],
   "source": [
    "create_user(\"John\",\"1234\")\n",
    "create_user(\"Sara\",\"5678\")"
   ]
  },
  {
   "cell_type": "code",
   "execution_count": 24,
   "metadata": {},
   "outputs": [],
   "source": [
    "#Read user\n",
    "def get_user():\n",
    "    users= session.query(User).all()\n",
    "    for user in users:\n",
    "        print(user.name)"
   ]
  },
  {
   "cell_type": "code",
   "execution_count": 25,
   "metadata": {},
   "outputs": [
    {
     "name": "stdout",
     "output_type": "stream",
     "text": [
      "2.0.37\n"
     ]
    }
   ],
   "source": [
    "import sqlalchemy\n",
    "print(sqlalchemy.__version__)\n"
   ]
  },
  {
   "cell_type": "code",
   "execution_count": 26,
   "metadata": {},
   "outputs": [
    {
     "name": "stdout",
     "output_type": "stream",
     "text": [
      "All users:\n",
      "John\n",
      "Sara\n",
      "John\n",
      "Sara\n"
     ]
    }
   ],
   "source": [
    "print(\"All users:\")\n",
    "get_user()"
   ]
  },
  {
   "cell_type": "code",
   "execution_count": null,
   "metadata": {},
   "outputs": [],
   "source": []
  }
 ],
 "metadata": {
  "kernelspec": {
   "display_name": "Python 3",
   "language": "python",
   "name": "python3"
  },
  "language_info": {
   "codemirror_mode": {
    "name": "ipython",
    "version": 3
   },
   "file_extension": ".py",
   "mimetype": "text/x-python",
   "name": "python",
   "nbconvert_exporter": "python",
   "pygments_lexer": "ipython3",
   "version": "3.12.7"
  }
 },
 "nbformat": 4,
 "nbformat_minor": 2
}
