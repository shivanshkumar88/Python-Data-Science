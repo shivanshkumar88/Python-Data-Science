{
 "cells": [
  {
   "cell_type": "markdown",
   "metadata": {},
   "source": [
    "#### What is image processing?\n",
    "- The process of manipulating images to improve their quality, extract information, or prepare them for further analysis."
   ]
  },
  {
   "cell_type": "markdown",
   "metadata": {},
   "source": [
    "#### Libraries for image processing\n",
    "- OpenCV\n",
    "- Pillow Library"
   ]
  },
  {
   "cell_type": "code",
   "execution_count": 1,
   "metadata": {},
   "outputs": [],
   "source": [
    "import cv2"
   ]
  },
  {
   "cell_type": "code",
   "execution_count": 2,
   "metadata": {},
   "outputs": [],
   "source": [
    "image = cv2.imread(r\"C:\\Users\\Shivansh Kumar\\Desktop\\Python-Data-Science\\cars.jpg\")\n",
    "if image is not None:\n",
    "    cv2.imshow(\"Image\",image)\n",
    "    cv2.waitKey(0)# wait key is used to wait for a key to press to close the windown ,0 mean wait indefinitely\n",
    "    cv2.destroyAllWindows()#important cause if we dont use this command the kernel will crash.\n",
    "else:\n",
    "    print(\"Image not found\")"
   ]
  },
  {
   "cell_type": "code",
   "execution_count": 3,
   "metadata": {},
   "outputs": [],
   "source": [
    "#Convert the image to grayscale\n",
    "gray_image = cv2.cvtColor(image,cv2.COLOR_BGR2GRAY)\n",
    "cv2.imshow(\"Gray Image\",gray_image)\n",
    "cv2.waitKey(0)\n",
    "cv2.destroyAllWindows()"
   ]
  },
  {
   "cell_type": "code",
   "execution_count": 4,
   "metadata": {},
   "outputs": [],
   "source": [
    "#Convert the image to blur\n",
    "blurred_image = cv2.GaussianBlur(image,(15,15),0)\n",
    "cv2.imshow(\"Blurred Image\",blurred_image)\n",
    "cv2.waitKey(0)\n",
    "cv2.destroyAllWindows()"
   ]
  },
  {
   "cell_type": "code",
   "execution_count": 5,
   "metadata": {},
   "outputs": [],
   "source": [
    "#this canny is used to detect the edges in the image\n",
    "edges = cv2.Canny(blurred_image,100,200)\n",
    "cv2.imshow(\"Edges\",edges)\n",
    "cv2.waitKey(0)\n",
    "cv2.destroyAllWindows()"
   ]
  },
  {
   "cell_type": "code",
   "execution_count": 6,
   "metadata": {},
   "outputs": [
    {
     "name": "stdout",
     "output_type": "stream",
     "text": [
      "(900, 1600, 3)\n"
     ]
    }
   ],
   "source": [
    "image = cv2.imread(r\"C:\\Users\\Shivansh Kumar\\Desktop\\Python-Data-Science\\cars.jpg\")\n",
    "print(image.shape)\n",
    "\n",
    "\n"
   ]
  },
  {
   "cell_type": "code",
   "execution_count": 7,
   "metadata": {},
   "outputs": [],
   "source": [
    "\n",
    "#Resize the image\n",
    "resized_image = cv2.resize(image,(750,900))\n",
    "cv2.imshow(\"Resized Image\",resized_image)\n",
    "cv2.waitKey(0)\n",
    "cv2.destroyAllWindows()"
   ]
  },
  {
   "cell_type": "code",
   "execution_count": 8,
   "metadata": {},
   "outputs": [],
   "source": [
    "#Crop the image\n",
    "cropped_image = image[50:200,200:500]\n",
    "cv2.imshow(\"Cropped Image\",cropped_image)\n",
    "cv2.imshow(\"Resized Image\",resized_image)\n",
    "cv2.waitKey(0)\n",
    "cv2.destroyAllWindows()"
   ]
  },
  {
   "cell_type": "code",
   "execution_count": 9,
   "metadata": {},
   "outputs": [],
   "source": [
    "#To draw or write on the image\n",
    "drawing = image.copy()\n",
    "cv2.rectangle(drawing,(50,50),(200,200),(0,255,0),2)#Image ,start point,endpoint,color,thickness\n",
    "cv2.imshow(\"Rectangle\",drawing)\n",
    "cv2.waitKey(0)\n",
    "cv2.destroyAllWindows()"
   ]
  },
  {
   "cell_type": "markdown",
   "metadata": {},
   "source": []
  }
 ],
 "metadata": {
  "kernelspec": {
   "display_name": "Python 3",
   "language": "python",
   "name": "python3"
  },
  "language_info": {
   "codemirror_mode": {
    "name": "ipython",
    "version": 3
   },
   "file_extension": ".py",
   "mimetype": "text/x-python",
   "name": "python",
   "nbconvert_exporter": "python",
   "pygments_lexer": "ipython3",
   "version": "3.12.7"
  }
 },
 "nbformat": 4,
 "nbformat_minor": 2
}
