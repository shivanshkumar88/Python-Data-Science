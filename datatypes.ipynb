{
 "cells": [
  {
   "cell_type": "markdown",
   "metadata": {},
   "source": [
    "## dataypes"
   ]
  },
  {
   "cell_type": "code",
   "execution_count": 1,
   "metadata": {},
   "outputs": [
    {
     "name": "stdout",
     "output_type": "stream",
     "text": [
      "jhonny jhonny yes papa\n",
      "eating sugar no papa\n",
      "open your mouth haa aha aha\n"
     ]
    }
   ],
   "source": [
    "poem = '''jhonny jhonny yes papa\n",
    "eating sugar no papa\n",
    "open your mouth haa aha aha'''\n",
    "print(poem)"
   ]
  },
  {
   "cell_type": "code",
   "execution_count": null,
   "metadata": {},
   "outputs": [
    {
     "name": "stdout",
     "output_type": "stream",
     "text": [
      "['apple', 'guava', 'banana', 'orange']\n"
     ]
    }
   ],
   "source": [
    "#LIST\n",
    "\n",
    "fruits = ['apple','guava','banana','orange']\n",
    "print(fruits)"
   ]
  },
  {
   "cell_type": "code",
   "execution_count": null,
   "metadata": {},
   "outputs": [
    {
     "name": "stdout",
     "output_type": "stream",
     "text": [
      "('google', 'maps', 'swiggy', 'zomato')\n"
     ]
    }
   ],
   "source": [
    "#TUPLE\n",
    "\n",
    "apps = ('google','maps','swiggy','zomato')\n",
    "print(apps)"
   ]
  },
  {
   "cell_type": "code",
   "execution_count": 4,
   "metadata": {},
   "outputs": [
    {
     "name": "stdout",
     "output_type": "stream",
     "text": [
      "{'apple', 'banana', 'guava', 'orange', 'kiwi'}\n"
     ]
    }
   ],
   "source": [
    "#SET\n",
    "\n",
    "fruits = {'apple','orange','banana','orange','guava','apple','kiwi'}\n",
    "print(fruits)"
   ]
  },
  {
   "cell_type": "code",
   "execution_count": 6,
   "metadata": {},
   "outputs": [
    {
     "name": "stdout",
     "output_type": "stream",
     "text": [
      "{'brand': 'ford ', 'model': 'mustang', 'year': '1964'}\n"
     ]
    }
   ],
   "source": [
    "#DICTIONARY\n",
    "\n",
    "car_info ={\n",
    "    \"brand\":\"ford \",\n",
    "    \"model\" : \"mustang\",\n",
    "    \"year\": \"1964\"\n",
    "}\n",
    "print(car_info)"
   ]
  },
  {
   "cell_type": "code",
   "execution_count": 8,
   "metadata": {},
   "outputs": [
    {
     "name": "stdout",
     "output_type": "stream",
     "text": [
      "{'name': 'jhon', 'age': '23', 'class': '6th'}\n"
     ]
    }
   ],
   "source": [
    "student = {\n",
    "    'name':'jhon',\n",
    "    'age' : '23',\n",
    "    'class' : '6th'\n",
    "}\n",
    "print(student)"
   ]
  },
  {
   "cell_type": "code",
   "execution_count": 10,
   "metadata": {},
   "outputs": [
    {
     "data": {
      "text/plain": [
       "str"
      ]
     },
     "execution_count": 10,
     "metadata": {},
     "output_type": "execute_result"
    }
   ],
   "source": [
    "# type function to check or it tells which type of data or datatype is stored in the variable /value.\n",
    "\n",
    "name = \"jhon\"\n",
    "type(name)"
   ]
  },
  {
   "cell_type": "code",
   "execution_count": 12,
   "metadata": {},
   "outputs": [
    {
     "name": "stdout",
     "output_type": "stream",
     "text": [
      "2\n"
     ]
    },
    {
     "data": {
      "text/plain": [
       "str"
      ]
     },
     "execution_count": 12,
     "metadata": {},
     "output_type": "execute_result"
    }
   ],
   "source": [
    "num = input(\"enter a value\")\n",
    "print(num)\n",
    "type(num)"
   ]
  },
  {
   "cell_type": "markdown",
   "metadata": {},
   "source": [
    "## TYPECASTING"
   ]
  },
  {
   "cell_type": "code",
   "execution_count": 14,
   "metadata": {},
   "outputs": [
    {
     "name": "stdout",
     "output_type": "stream",
     "text": [
      "6\n"
     ]
    },
    {
     "data": {
      "text/plain": [
       "int"
      ]
     },
     "execution_count": 14,
     "metadata": {},
     "output_type": "execute_result"
    }
   ],
   "source": [
    "#first method of typecasting.\n",
    "\n",
    "num = input(\"enter a value\") \n",
    "num2 = int(num)\n",
    "print(num2)\n",
    "type(num2)"
   ]
  },
  {
   "cell_type": "code",
   "execution_count": 15,
   "metadata": {},
   "outputs": [
    {
     "name": "stdout",
     "output_type": "stream",
     "text": [
      "3\n"
     ]
    },
    {
     "data": {
      "text/plain": [
       "int"
      ]
     },
     "execution_count": 15,
     "metadata": {},
     "output_type": "execute_result"
    }
   ],
   "source": [
    "# direct type casting 2nd method of it\n",
    "\n",
    "num = int(input(\"enter a value\"))\n",
    "print(num)\n",
    "type(num)"
   ]
  },
  {
   "cell_type": "code",
   "execution_count": 16,
   "metadata": {},
   "outputs": [
    {
     "name": "stdout",
     "output_type": "stream",
     "text": [
      "sum is = 12\n"
     ]
    }
   ],
   "source": [
    "# print formatting\n",
    "\n",
    "a = 10\n",
    "b = 2\n",
    "sum = a+b\n",
    "print(\"sum is =\",sum)"
   ]
  },
  {
   "cell_type": "code",
   "execution_count": 17,
   "metadata": {},
   "outputs": [
    {
     "name": "stdout",
     "output_type": "stream",
     "text": [
      "sum of 10 and 2 is 12\n",
      "sum of 10 and 2 is 12\n"
     ]
    }
   ],
   "source": [
    "a = 10\n",
    "b = 2\n",
    "print(\"sum of\",a,\"and\",b,\"is\",a+b)\n",
    "print(f'sum of {a} and {b} is {a+b}')         # this is called string formatting.\n"
   ]
  },
  {
   "cell_type": "code",
   "execution_count": null,
   "metadata": {},
   "outputs": [],
   "source": []
  }
 ],
 "metadata": {
  "kernelspec": {
   "display_name": "base",
   "language": "python",
   "name": "python3"
  },
  "language_info": {
   "codemirror_mode": {
    "name": "ipython",
    "version": 3
   },
   "file_extension": ".py",
   "mimetype": "text/x-python",
   "name": "python",
   "nbconvert_exporter": "python",
   "pygments_lexer": "ipython3",
   "version": "3.12.7"
  }
 },
 "nbformat": 4,
 "nbformat_minor": 2
}
